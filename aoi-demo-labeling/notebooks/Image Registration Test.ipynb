{
 "cells": [
  {
   "cell_type": "markdown",
   "metadata": {},
   "source": [
    "# Image Registration Tests"
   ]
  },
  {
   "cell_type": "code",
   "execution_count": null,
   "metadata": {},
   "outputs": [],
   "source": [
    "from pathlib import Path\n",
    "import time\n",
    "import json\n",
    "import pandas as pd\n",
    "import numpy as np\n",
    "import cv2\n",
    "import matplotlib.pyplot as plt\n",
    "from matplotlib import patches, patheffects\n",
    "import ipywidgets as widgets\n",
    "from IPython import display"
   ]
  },
  {
   "cell_type": "code",
   "execution_count": null,
   "metadata": {},
   "outputs": [],
   "source": [
    "import sys\n",
    "sys.path.insert(0, '../src')\n",
    "\n",
    "from registration import register_images_ft, register_images_ecc, register_images_fm\n",
    "from utils import xyxy_to_xywh, xywh_xyxy"
   ]
  },
  {
   "cell_type": "code",
   "execution_count": null,
   "metadata": {},
   "outputs": [],
   "source": [
    "# To debug external functions\n",
    "%load_ext autoreload\n",
    "%autoreload 2"
   ]
  },
  {
   "cell_type": "markdown",
   "metadata": {},
   "source": [
    "## Helper Functions"
   ]
  },
  {
   "cell_type": "code",
   "execution_count": null,
   "metadata": {},
   "outputs": [],
   "source": [
    "def show_img(img, ax=None, figsize=(12, 12), title=\"\"):\n",
    "    if not ax:\n",
    "        fig, ax = plt.subplots(figsize=figsize)\n",
    "    \n",
    "    ax.imshow(img, cmap='gray')\n",
    "    ax.set_axis_off()\n",
    "\n",
    "    ax.set_title(title)\n",
    "    ax.grid(False)\n",
    "\n",
    "    return ax\n",
    "\n",
    "\n",
    "def plot_img_with_bboxes(img, gt_boxes=None, pred_boxes=None, ax=None, figsize=(12, 12), title=\"\"):\n",
    "\n",
    "    ax = show_img(img, ax=ax, figsize=figsize, title=title)\n",
    "    \n",
    "    if gt_boxes is not None:\n",
    "        for bbox in gt_boxes:        \n",
    "            draw_rect(ax, bbox, color='red')\n",
    "\n",
    "    if pred_boxes is not None:\n",
    "        for bbox in pred_boxes:        \n",
    "            draw_rect(ax, bbox, color='blue')            \n",
    "\n",
    "    return ax    \n",
    "\n",
    "\n",
    "def draw_rect(ax, b, color='red'):\n",
    "    patch = ax.add_patch(patches.Rectangle(b[:2], *b[-2:], fill=False, alpha=0.5, edgecolor=color, lw=2))"
   ]
  },
  {
   "cell_type": "markdown",
   "metadata": {},
   "source": [
    "## Load Data"
   ]
  },
  {
   "cell_type": "code",
   "execution_count": null,
   "metadata": {},
   "outputs": [],
   "source": [
    "data_path = Path(\"../data/raw/setup_1/\")\n",
    "ann_path = data_path / \"instances_coco.json\""
   ]
  },
  {
   "cell_type": "code",
   "execution_count": null,
   "metadata": {},
   "outputs": [],
   "source": [
    "with open(ann_path) as f:\n",
    "    coco_data = json.load(f)   "
   ]
  },
  {
   "cell_type": "code",
   "execution_count": null,
   "metadata": {},
   "outputs": [],
   "source": [
    "images = coco_data[\"images\"]\n",
    "anns = coco_data[\"annotations\"]"
   ]
  },
  {
   "cell_type": "code",
   "execution_count": null,
   "metadata": {},
   "outputs": [],
   "source": [
    "templ_idx = 0\n",
    "\n",
    "templ_img_info = images[templ_idx]\n",
    "\n",
    "templ_anns = [ann for ann in anns if ann[\"image_id\"] == templ_img_info[\"id\"]]\n",
    "templ_path = data_path / templ_img_info[\"file_name\"]\n",
    "\n",
    "templ_img = cv2.imread(str(templ_path))\n",
    "\n",
    "templ_bboxes = [ann[\"bbox\"] for ann in templ_anns]\n",
    "\n",
    "\n",
    "plot_img_with_bboxes(templ_img, templ_bboxes)"
   ]
  },
  {
   "cell_type": "code",
   "execution_count": null,
   "metadata": {},
   "outputs": [],
   "source": [
    "target_idx = 8\n",
    "\n",
    "img_info = images[target_idx]\n",
    "\n",
    "target_anns = [ann for ann in anns if ann[\"image_id\"] == img_info[\"id\"]]\n",
    "img_path = data_path / img_info[\"file_name\"]\n",
    "\n",
    "img = cv2.imread(str(img_path))\n",
    "\n",
    "bboxes = [ann[\"bbox\"] for ann in target_anns]\n",
    "\n",
    "\n",
    "_ = plot_img_with_bboxes(img, bboxes, templ_bboxes, title=\"GT boxes (red), boxes from template (blue)\")"
   ]
  },
  {
   "cell_type": "markdown",
   "metadata": {},
   "source": [
    "## Registration"
   ]
  },
  {
   "cell_type": "code",
   "execution_count": null,
   "metadata": {},
   "outputs": [],
   "source": [
    "templ_img_g = cv2.cvtColor(templ_img, cv2.COLOR_BGR2GRAY)\n",
    "img_g = cv2.cvtColor(img, cv2.COLOR_BGR2GRAY)\n",
    "\n",
    "print(\"Template image shape: \", templ_img_g.shape)\n",
    "print(\"Target image shape: \", img_g.shape)\n",
    "\n",
    "start = time.time()\n",
    "mat = register_images_fm(img_g, templ_img_g)\n",
    "duration = time.time() - start\n",
    "print(f\"Duration: {duration:.3f} s\")\n",
    "\n",
    "templ_bboxes_xyxy = np.array([xywh_xyxy(box) for box in templ_bboxes])\n",
    "\n",
    "templ_p1s = templ_bboxes_xyxy[:,:2]\n",
    "templ_p2s = templ_bboxes_xyxy[:,2:]\n",
    "\n",
    "templ_ps = np.vstack((templ_p1s, templ_p2s))\n",
    "\n",
    "if mat is None:\n",
    "    print(\"Registration failed\")\n",
    "else:    \n",
    "    pers_mat = np.zeros(shape=(3, 3))\n",
    "    pers_mat[:2,:] = mat\n",
    "    pers_mat[2] = [0, 0, 1]\n",
    "\n",
    "    templ_ps_reg = cv2.perspectiveTransform(np.array([templ_ps]), pers_mat)[0]            \n",
    "\n",
    "templ_p1s_reg = templ_ps_reg[:len(templ_bboxes)]\n",
    "templ_p2s_reg = templ_ps_reg[len(templ_bboxes):]\n",
    "\n",
    "templ_bboxes_xyxy_reg = np.hstack((templ_p1s_reg, templ_p2s_reg))\n",
    "templ_bboxes_xyxy_reg = templ_bboxes_xyxy_reg.tolist()\n",
    "templ_bboxes_reg = [xyxy_to_xywh(box) for box in templ_bboxes_xyxy_reg]\n",
    "\n",
    "_ = plot_img_with_bboxes(img, bboxes, templ_bboxes_reg, title=\"GT boxes (red), registered boxes from template (blue)\")"
   ]
  }
 ],
 "metadata": {
  "hide_input": false,
  "kernelspec": {
   "display_name": "Python 3.7.6 64-bit ('mlkit': venv)",
   "language": "python",
   "name": "python37664bitmlkitvenvb0431bc2bcc34d85b251f96174090ab5"
  },
  "language_info": {
   "codemirror_mode": {
    "name": "ipython",
    "version": 3
   },
   "file_extension": ".py",
   "mimetype": "text/x-python",
   "name": "python",
   "nbconvert_exporter": "python",
   "pygments_lexer": "ipython3",
   "version": "3.7.6"
  }
 },
 "nbformat": 4,
 "nbformat_minor": 4
}
